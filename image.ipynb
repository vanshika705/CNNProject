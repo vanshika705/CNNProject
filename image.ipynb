{
 "cells": [
  {
   "cell_type": "markdown",
   "metadata": {},
   "source": [
    "<h1>Dog-Cat Image Classification Project.</h1>\n",
    "<p>CNN ---> Convoltuional Neural Network<br>\n",
    "CNN is used to deal with graphical or visual data (images and videos). To percieve the visual information. It is main block of computer vision. <br>\n",
    "Three types of network in deep learning :- ANN (thinking), CNN (visual info) and RNN (natural/human readable languages).<br>\n",
    "RNN ---> It is main block of natural language processing.<br><br>\n",
    "CNN Architecture :-<br>\n",
    "1. ANN is a part of CNN.<br>\n",
    "2. Parts ---> Feature Extraction, Classification and Probabilistic Distribution.<br>\n",
    "3. Feature Extraction ---> shape, size, color of image or videos.<br>\n",
    "4. Classification ---> ANN, full connected layer.</p>"
   ]
  },
  {
   "cell_type": "code",
   "execution_count": 1,
   "metadata": {},
   "outputs": [
    {
     "name": "stdout",
     "output_type": "stream",
     "text": [
      "libraries imported!\n"
     ]
    }
   ],
   "source": [
    "import numpy as np\n",
    "import os\n",
    "import cv2\n",
    "from PIL import Image\n",
    "print(\"libraries imported!\")"
   ]
  },
  {
   "cell_type": "code",
   "execution_count": null,
   "metadata": {},
   "outputs": [],
   "source": []
  }
 ],
 "metadata": {
  "kernelspec": {
   "display_name": "Python 3",
   "language": "python",
   "name": "python3"
  },
  "language_info": {
   "codemirror_mode": {
    "name": "ipython",
    "version": 3
   },
   "file_extension": ".py",
   "mimetype": "text/x-python",
   "name": "python",
   "nbconvert_exporter": "python",
   "pygments_lexer": "ipython3",
   "version": "3.12.4"
  }
 },
 "nbformat": 4,
 "nbformat_minor": 2
}
